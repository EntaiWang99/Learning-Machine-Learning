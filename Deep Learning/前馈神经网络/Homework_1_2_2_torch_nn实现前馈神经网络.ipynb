{
 "cells": [
  {
   "cell_type": "markdown",
   "source": [
    "# 实验二：torch.nn实现前馈神经网络\r\n",
    "姓名：王恩泰\r\n",
    "\r\n",
    "学号：21114019"
   ],
   "metadata": {}
  },
  {
   "cell_type": "markdown",
   "source": [
    "# 一. 回归问题"
   ],
   "metadata": {}
  },
  {
   "cell_type": "code",
   "execution_count": 1,
   "source": [
    "import torch\r\n",
    "import torch.nn as nn\r\n",
    "import torch.utils.data as Data\r\n",
    "from torch.nn import init\r\n",
    "import numpy as np\r\n",
    "import matplotlib.pyplot as plt\r\n",
    "import torchvision\r\n",
    "import torchvision.transforms as transforms"
   ],
   "outputs": [],
   "metadata": {}
  },
  {
   "cell_type": "markdown",
   "source": [
    "## 1. 读取数据"
   ],
   "metadata": {}
  },
  {
   "cell_type": "code",
   "execution_count": 2,
   "source": [
    "num_train, num_test = 700, 300\r\n",
    "dim_w = 100\r\n",
    "\r\n",
    "# 真实参数值\r\n",
    "true_w = 2 * torch.ones(dim_w, 1)\r\n",
    "true_b = 1\r\n",
    "\r\n",
    "total_x = torch.randn((num_train+num_test, dim_w))\r\n",
    "true_total_y = torch.matmul(total_x, true_w)+true_b\r\n",
    "rand_total_y = torch.tensor(np.random.normal(0, 0.01, size=true_total_y.size()), dtype=torch.float) # 为生成的label添加随机扰动\r\n",
    "\r\n",
    "train_x = total_x[:num_train, :]\r\n",
    "train_y = rand_total_y[:num_train, :]\r\n",
    "test_x = total_x[num_train:, :]\r\n",
    "test_y = rand_total_y[num_train:, :]\r\n",
    "\r\n",
    "batch_size = 10\r\n",
    "train_dataset = Data.TensorDataset(train_x, train_y)\r\n",
    "train_iter = Data.DataLoader(dataset=train_dataset,batch_size=batch_size,shuffle=True)\r\n",
    "test_dataset = Data.TensorDataset(test_x, test_y)\r\n",
    "test_iter = Data.DataLoader(dataset=test_dataset,batch_size=batch_size,shuffle=True)"
   ],
   "outputs": [],
   "metadata": {}
  },
  {
   "cell_type": "markdown",
   "source": [
    "## 2. 构建神经网络"
   ],
   "metadata": {}
  },
  {
   "cell_type": "code",
   "execution_count": 3,
   "source": [
    "# 1. 构建隐藏层类\r\n",
    "class FlattenLayer(torch.nn.Module):\r\n",
    "    def __init__(self):\r\n",
    "        super(FlattenLayer, self).__init__()\r\n",
    "    def forward(self,x):\r\n",
    "        return x.view(x.shape[0],-1)\r\n",
    "\r\n",
    "# 2. 模型定义\r\n",
    "num_inputs, num_outputs, num_hiddens = 100, 1, 50 # 100个输入参数，1个输出参数, 50个隐藏层\r\n",
    "net = nn.Sequential(\r\n",
    "         FlattenLayer(),\r\n",
    "         nn.Linear(num_inputs, num_hiddens),\r\n",
    "         nn.ReLU(),\r\n",
    "         nn.Linear(num_hiddens, num_outputs),\r\n",
    "         )\r\n",
    "         \r\n",
    "# 3. 初始化参数\r\n",
    "for params in net.parameters():\r\n",
    "    init.normal_(params, mean=0, std=0.01)\r\n",
    "\r\n",
    "# 4. 设置学习器参数\r\n",
    "num_epochs=50\r\n",
    "lr=0.01\r\n",
    "# loss = nn.CrossEntropyLoss()\r\n",
    "loss = nn.MSELoss() # 只在MNIST中使用交叉熵，其它使用平方误差\r\n",
    "optimizer = torch.optim.SGD(net.parameters(), lr)"
   ],
   "outputs": [],
   "metadata": {}
  },
  {
   "cell_type": "markdown",
   "source": [
    "## 3. 模型训练"
   ],
   "metadata": {}
  },
  {
   "cell_type": "code",
   "execution_count": 4,
   "source": [
    "train_loss_list = []\r\n",
    "test_loss_list = []\r\n",
    "for epoch in range(num_epochs):\r\n",
    "    train_loss_sum = 0\r\n",
    "    n_train = 0\r\n",
    "    for train_x,train_y in train_iter: # 这里不用batch_size\r\n",
    "        y_hat = net(train_x)\r\n",
    "        # print(y_hat)\r\n",
    "        # print(train_y)\r\n",
    "        l = loss(train_y, y_hat).sum()\r\n",
    "        if optimizer is not None:\r\n",
    "            optimizer.zero_grad()\r\n",
    "        elif params is not None and params[0].grad is not None:\r\n",
    "            for param in params:\r\n",
    "                param.grad.data.zero_()\r\n",
    "        l.backward()\r\n",
    "        if optimizer is None:\r\n",
    "            SGD(params, lr)\r\n",
    "        else:\r\n",
    "            optimizer.step()\r\n",
    "        train_loss_sum += l.item()\r\n",
    "        n_train += train_y.shape[0]\r\n",
    "    train_loss_list.append(train_loss_sum/n_train)\r\n",
    "\r\n",
    "    test_loss_sum = 0\r\n",
    "    n_test = 0\r\n",
    "    for test_x,test_y in test_iter: \r\n",
    "        y_hat = net(test_x)\r\n",
    "        l = loss(test_y, y_hat.long()).sum()\r\n",
    "        test_loss_sum += l.item()\r\n",
    "        n_test += test_y.shape[0]\r\n",
    "    test_loss_list.append(test_loss_sum/n_test)\r\n",
    "        \r\n",
    "    if (epoch % 10 == 0):     \r\n",
    "        print('iter: %d, train_loss= %f, test_loss= %f' % (epoch, train_loss_sum/n_train, test_loss_sum/n_test))\r\n",
    "print('iter: %d, train_loss= %f, test_loss= %f' % (epoch, train_loss_sum/n_train, test_loss_sum/n_test))\r\n",
    "plt.plot(train_loss_list, label='train loss')\r\n",
    "plt.plot(test_loss_list, label='test loss')\r\n",
    "plt.legend() \r\n",
    "plt.show() "
   ],
   "outputs": [
    {
     "output_type": "stream",
     "name": "stdout",
     "text": [
      "iter: 0, train_loss= 0.000015, test_loss= 0.000011\n",
      "iter: 10, train_loss= 0.000012, test_loss= 0.000011\n",
      "iter: 20, train_loss= 0.000012, test_loss= 0.000011\n",
      "iter: 30, train_loss= 0.000012, test_loss= 0.000011\n",
      "iter: 40, train_loss= 0.000011, test_loss= 0.000011\n",
      "iter: 49, train_loss= 0.000011, test_loss= 0.000011\n"
     ]
    },
    {
     "output_type": "display_data",
     "data": {
      "text/plain": [
       "<Figure size 432x288 with 1 Axes>"
      ],
      "image/png": "[encoded data removed]"
     },
     "metadata": {
      "needs_background": "light"
     }
    }
   ],
   "metadata": {}
  },
  {
   "cell_type": "markdown",
   "source": [
    "# 二、二分类问题"
   ],
   "metadata": {}
  },
  {
   "cell_type": "markdown",
   "source": [
    "## 1. 随机生成两类数据"
   ],
   "metadata": {}
  },
  {
   "cell_type": "code",
   "execution_count": 5,
   "source": [
    "n_data = torch.ones(1000, 20) # 1000*20的数据基本形态\r\n",
    "x1 = torch.normal(2*n_data,1) # 均值为2，方差为1, 1000*20规格的随机数据（Feature）\r\n",
    "y1 = torch.zeros(1000) # 1000个分到0类\r\n",
    "x2 = torch.normal(-2*n_data,1) # 均值为-2，方差为1, 1000*20规格的随机数据（Feature）\r\n",
    "y2 = torch.ones(1000) # 1000个分到1类\r\n",
    "\r\n",
    "# 合并数据，把所有产生的x,0按行拼接\r\n",
    "x_train_data = torch.cat((x1[0:700],x2[0:700]),0).type(torch.FloatTensor)\r\n",
    "y_train_data = torch.cat((y1[0:700],y2[0:700]),0).type(torch.FloatTensor)\r\n",
    "print(x_train_data.size())\r\n",
    "print(y_train_data.size())\r\n",
    "\r\n",
    "x_test_data = torch.cat((x1[700:1000],x2[700:1000]),0).type(torch.FloatTensor)\r\n",
    "y_test_data = torch.cat((y1[700:1000],y2[700:1000]),0).type(torch.FloatTensor)\r\n",
    "print(x_test_data.size())\r\n",
    "print(y_test_data.size())\r\n",
    "\r\n",
    "train_dataset = Data.TensorDataset(x_train_data, y_train_data)\r\n",
    "test_dataset = Data.TensorDataset(x_test_data, y_test_data)\r\n",
    "train_iter = Data.DataLoader(dataset=train_dataset,batch_size=batch_size,shuffle=True)\r\n",
    "test_iter = Data.DataLoader(dataset=test_dataset,batch_size=batch_size,shuffle=True)"
   ],
   "outputs": [
    {
     "output_type": "stream",
     "name": "stdout",
     "text": [
      "torch.Size([1400, 20])\n",
      "torch.Size([1400])\n",
      "torch.Size([600, 20])\n",
      "torch.Size([600])\n"
     ]
    }
   ],
   "metadata": {}
  },
  {
   "cell_type": "markdown",
   "source": [
    "## 2. 构建神经网络"
   ],
   "metadata": {}
  },
  {
   "cell_type": "code",
   "execution_count": 6,
   "source": [
    "# 1. 构建隐藏层类\r\n",
    "class FlattenLayer(torch.nn.Module):\r\n",
    "    def __init__(self):\r\n",
    "        super(FlattenLayer, self).__init__()\r\n",
    "    def forward(self,x):\r\n",
    "        return x.view(x.shape[0],-1)\r\n",
    "\r\n",
    "# 2. 模型定义\r\n",
    "num_inputs, num_outputs, num_hiddens = 20, 1, 10 # 20个输入参数，1个输出参数, 50个隐藏层\r\n",
    "net = nn.Sequential(\r\n",
    "         FlattenLayer(),\r\n",
    "         nn.Linear(num_inputs, num_hiddens),\r\n",
    "         nn.ReLU(),\r\n",
    "         nn.Linear(num_hiddens, num_outputs),\r\n",
    "         )\r\n",
    "         \r\n",
    "# 3. 初始化参数\r\n",
    "for params in net.parameters():\r\n",
    "    init.normal_(params, mean=0, std=0.01)\r\n",
    "\r\n",
    "# 4. 设置学习器参数\r\n",
    "num_epochs=50\r\n",
    "lr=0.01\r\n",
    "# loss = nn.CrossEntropyLoss()\r\n",
    "loss = nn.MSELoss() # 只在MNIST中使用交叉熵，其它使用平方误差\r\n",
    "optimizer = torch.optim.SGD(net.parameters(), lr)"
   ],
   "outputs": [],
   "metadata": {}
  },
  {
   "cell_type": "markdown",
   "source": [
    "## 3. 模型训练"
   ],
   "metadata": {}
  },
  {
   "cell_type": "code",
   "execution_count": 7,
   "source": [
    "train_loss_list = []\r\n",
    "test_loss_list = []\r\n",
    "train_acc_list = []\r\n",
    "test_acc_list = []\r\n",
    "for epoch in range(num_epochs):\r\n",
    "    train_loss_sum = 0\r\n",
    "    train_acc_sum = 0\r\n",
    "    n_train = 0\r\n",
    "    for train_x,train_y in train_iter: # 这里不用batch_size\r\n",
    "        y_hat = net(train_x)\r\n",
    "        # print(y_hat)\r\n",
    "        # print(train_y)\r\n",
    "        y_hat = y_hat.squeeze(-1)\r\n",
    "        l = loss(y_hat, train_y).sum()\r\n",
    "        if optimizer is not None:\r\n",
    "            optimizer.zero_grad()\r\n",
    "        elif params is not None and params[0].grad is not None:\r\n",
    "            for param in params:\r\n",
    "                param.grad.data.zero_()\r\n",
    "        l.backward()\r\n",
    "        if optimizer is None:\r\n",
    "            SGD(params, lr)\r\n",
    "        else:\r\n",
    "            optimizer.step()\r\n",
    "        train_loss_sum += l.item()\r\n",
    "        n_train += train_y.shape[0]\r\n",
    "        train_acc_sum += (y_hat.ge(0.5).float().squeeze() == train_y).sum().item()\r\n",
    "\r\n",
    "    train_loss_list.append(train_loss_sum/n_train)\r\n",
    "    train_acc_list.append(train_acc_sum/n_train)\r\n",
    "\r\n",
    "    test_loss_sum = 0\r\n",
    "    test_acc_sum = 0\r\n",
    "    n_test = 0\r\n",
    "    for test_x,test_y in test_iter: \r\n",
    "        y_hat = net(test_x)\r\n",
    "        y_hat = y_hat.squeeze(-1)\r\n",
    "        l = loss(y_hat, test_y).sum()\r\n",
    "        test_loss_sum += l.item()\r\n",
    "        n_test += test_y.shape[0]\r\n",
    "        test_acc_sum += (y_hat.ge(0.5).float().squeeze() == test_y).sum().item()\r\n",
    "    \r\n",
    "    test_loss_list.append(test_loss_sum/n_test)\r\n",
    "    test_acc_list.append(test_acc_sum/n_test)\r\n",
    "\r\n",
    "    if (epoch % 10 == 0):   \r\n",
    "        print('iter: %d, train_loss= %f, test_loss= %f' % (epoch, train_loss_sum/n_train, test_loss_sum/n_test))\r\n",
    "        print('iter: %d, train_acc= %f, test_acc= %f' % (epoch, train_acc_sum/n_train, test_acc_sum/n_test))\r\n",
    "print('iter: %d, train_loss= %f, test_loss= %f' % (epoch, train_loss_sum/n_train, test_loss_sum/n_test))\r\n",
    "print('iter: %d, train_acc= %f, test_acc= %f' % (epoch, train_acc_sum/n_train, test_acc_sum/n_test))\r\n",
    "plt.plot(train_loss_list, label='train loss')\r\n",
    "plt.plot(test_loss_list, label='test loss')\r\n",
    "plt.legend() \r\n",
    "plt.show() \r\n",
    "\r\n",
    "plt.plot(train_acc_list, label='train acc')\r\n",
    "plt.plot(test_acc_list, label='test acc')\r\n",
    "plt.legend() \r\n",
    "plt.show() "
   ],
   "outputs": [
    {
     "output_type": "stream",
     "name": "stdout",
     "text": [
      "iter: 0, train_loss= 0.012025, test_loss= 0.000595\n",
      "iter: 0, train_acc= 0.854286, test_acc= 1.000000\n",
      "iter: 10, train_loss= 0.000380, test_loss= 0.000395\n",
      "iter: 10, train_acc= 1.000000, test_acc= 1.000000\n",
      "iter: 20, train_loss= 0.000334, test_loss= 0.000352\n",
      "iter: 20, train_acc= 1.000000, test_acc= 1.000000\n",
      "iter: 30, train_loss= 0.000307, test_loss= 0.000331\n",
      "iter: 30, train_acc= 1.000000, test_acc= 1.000000\n",
      "iter: 40, train_loss= 0.000288, test_loss= 0.000320\n",
      "iter: 40, train_acc= 1.000000, test_acc= 1.000000\n",
      "iter: 49, train_loss= 0.000274, test_loss= 0.000300\n",
      "iter: 49, train_acc= 1.000000, test_acc= 1.000000\n"
     ]
    },
    {
     "output_type": "display_data",
     "data": {
      "text/plain": [
       "<Figure size 432x288 with 1 Axes>"
      ],
      "image/png": "[encoded data removed]"
     },
     "metadata": {
      "needs_background": "light"
     }
    },
    {
     "output_type": "display_data",
     "data": {
      "text/plain": [
       "<Figure size 432x288 with 1 Axes>"
      ],
      "image/png": "[encoded data removed]"
     },
     "metadata": {
      "needs_background": "light"
     }
    }
   ],
   "metadata": {}
  },
  {
   "cell_type": "markdown",
   "source": [
    "# 三、 多分类问题"
   ],
   "metadata": {}
  },
  {
   "cell_type": "markdown",
   "source": [
    "## 1. 读取数据集"
   ],
   "metadata": {}
  },
  {
   "cell_type": "code",
   "execution_count": 8,
   "source": [
    "# 训练集\r\n",
    "mnist_train = torchvision.datasets.FashionMNIST(root='./Datasets', train=True,\r\n",
    "                                                download=False, transform=transforms.ToTensor())\r\n",
    "# 测试集\r\n",
    "mnist_test = torchvision.datasets.FashionMNIST(root='./Datasets', train=False,\r\n",
    "                                                download=False, transform=transforms.ToTensor())\r\n",
    "\r\n",
    "# 通过DataLoader读取小批量数据样本\r\n",
    "batch_size = 256\r\n",
    "num_workers = 0\r\n",
    "train_iter = torch.utils.data.DataLoader(mnist_train, batch_size=batch_size, shuffle=True,\r\n",
    "num_workers=num_workers)\r\n",
    "test_iter = torch.utils.data.DataLoader(mnist_test, batch_size=batch_size, shuffle=False,\r\n",
    "num_workers=num_workers)"
   ],
   "outputs": [],
   "metadata": {}
  },
  {
   "cell_type": "markdown",
   "source": [
    "## 2. 构建神经网络"
   ],
   "metadata": {}
  },
  {
   "cell_type": "code",
   "execution_count": 9,
   "source": [
    "# 1. 构建隐藏层类\r\n",
    "class FlattenLayer(torch.nn.Module):\r\n",
    "    def __init__(self):\r\n",
    "        super(FlattenLayer, self).__init__()\r\n",
    "    def forward(self,x):\r\n",
    "        return x.view(x.shape[0],-1)\r\n",
    "\r\n",
    "# 2. 模型定义\r\n",
    "num_inputs, num_outputs, num_hiddens = 784, 10, 50 # 784个输入参数，10个输出参数（每类的概率）, 256个隐藏层\r\n",
    "# 不同问题只需要根据输入输出更改输入层、输出层和隐藏层的数量即可\r\n",
    "net = nn.Sequential(\r\n",
    "         FlattenLayer(),\r\n",
    "         nn.Linear(num_inputs, num_hiddens),\r\n",
    "         nn.ReLU(),\r\n",
    "         nn.Linear(num_hiddens, num_outputs),\r\n",
    "         )\r\n",
    "         \r\n",
    "# 3. 初始化参数\r\n",
    "for params in net.parameters():\r\n",
    "    init.normal_(params, mean=0, std=0.01)\r\n",
    "\r\n",
    "# 4. 设置学习器参数\r\n",
    "num_epochs=50\r\n",
    "lr=0.01\r\n",
    "loss = nn.CrossEntropyLoss()\r\n",
    "# loss = nn.MSELoss() # 只在MNIST中使用交叉熵(已经考虑了取概率最大那个)，其它使用平方误差\r\n",
    "optimizer = torch.optim.SGD(net.parameters(), lr)"
   ],
   "outputs": [],
   "metadata": {}
  },
  {
   "cell_type": "markdown",
   "source": [
    "## 3. 模型训练"
   ],
   "metadata": {}
  },
  {
   "cell_type": "code",
   "execution_count": 10,
   "source": [
    "train_loss_list = []\r\n",
    "test_loss_list = []\r\n",
    "train_acc_list = []\r\n",
    "test_acc_list = []\r\n",
    "for epoch in range(num_epochs):\r\n",
    "    train_loss_sum = 0\r\n",
    "    train_acc_sum = 0\r\n",
    "\r\n",
    "    n_train = 0\r\n",
    "    for train_x,train_y in train_iter: # 这里不用batch_size\r\n",
    "        y_hat = net(train_x)\r\n",
    "        # print(y_hat)\r\n",
    "        # print(train_y)\r\n",
    "        l = loss(y_hat, train_y).sum()\r\n",
    "        if optimizer is not None:\r\n",
    "            optimizer.zero_grad()\r\n",
    "        elif params is not None and params[0].grad is not None:\r\n",
    "            for param in params:\r\n",
    "                param.grad.data.zero_()\r\n",
    "        l.backward()\r\n",
    "        if optimizer is None:\r\n",
    "            SGD(params, lr)\r\n",
    "        else:\r\n",
    "            optimizer.step()\r\n",
    "        train_loss_sum += l.item()\r\n",
    "        n_train += train_y.shape[0]\r\n",
    "        train_acc_sum += (y_hat.argmax(dim=1) == train_y).sum().item()\r\n",
    "    train_loss_list.append(train_loss_sum/n_train)\r\n",
    "    train_acc_list.append(train_acc_sum/n_train)\r\n",
    "\r\n",
    "    test_loss_sum = 0\r\n",
    "    test_acc_sum = 0\r\n",
    "    n_test = 0\r\n",
    "    for test_x,test_y in test_iter: \r\n",
    "        y_hat = net(test_x)\r\n",
    "        l = loss(y_hat, test_y).sum()\r\n",
    "        test_loss_sum += l.item()\r\n",
    "        n_test += test_y.shape[0]\r\n",
    "        test_acc_sum += (y_hat.argmax(dim=1) == test_y).sum().item()\r\n",
    "    test_loss_list.append(test_loss_sum/n_test)\r\n",
    "    test_acc_list.append(test_acc_sum/n_test)\r\n",
    "\r\n",
    "    if (epoch % 10 == 0):\r\n",
    "        print('iter: %d, train_loss= %f, test_loss= %f' % (epoch, train_loss_sum/n_train, test_loss_sum/n_test))\r\n",
    "        print('iter: %d, train_acc= %f, test_acc= %f' % (epoch, train_acc_sum/n_train, test_acc_sum/n_test))\r\n",
    "print('iter: %d, train_loss= %f, test_loss= %f' % (epoch, train_loss_sum/n_train, test_loss_sum/n_test))\r\n",
    "print('iter: %d, train_acc= %f, test_acc= %f' % (epoch, train_acc_sum/n_train, test_acc_sum/n_test))\r\n",
    "plt.plot(train_loss_list, label='train loss')\r\n",
    "plt.plot(test_loss_list, label='test loss')\r\n",
    "plt.legend() \r\n",
    "plt.show() \r\n",
    "plt.plot(train_acc_list, label='train acc')\r\n",
    "plt.plot(test_acc_list, label='test acc')\r\n",
    "plt.legend() \r\n",
    "plt.show()"
   ],
   "outputs": [
    {
     "output_type": "stream",
     "name": "stdout",
     "text": [
      "iter: 0, train_loss= 0.008844, test_loss= 0.008557\n",
      "iter: 0, train_acc= 0.197533, test_acc= 0.243900\n",
      "iter: 10, train_loss= 0.002638, test_loss= 0.002703\n",
      "iter: 10, train_acc= 0.758100, test_acc= 0.756800\n",
      "iter: 20, train_loss= 0.002098, test_loss= 0.002211\n",
      "iter: 20, train_acc= 0.818333, test_acc= 0.804600\n",
      "iter: 30, train_loss= 0.001884, test_loss= 0.002020\n",
      "iter: 30, train_acc= 0.834817, test_acc= 0.820800\n",
      "iter: 40, train_loss= 0.001780, test_loss= 0.001933\n",
      "iter: 40, train_acc= 0.843783, test_acc= 0.828000\n",
      "iter: 49, train_loss= 0.001716, test_loss= 0.001881\n",
      "iter: 49, train_acc= 0.848867, test_acc= 0.831900\n"
     ]
    },
    {
     "output_type": "display_data",
     "data": {
      "text/plain": [
       "<Figure size 432x288 with 1 Axes>"
      ],
      "image/png": "[encoded data removed]"
     },
     "metadata": {
      "needs_background": "light"
     }
    },
    {
     "output_type": "display_data",
     "data": {
      "text/plain": [
       "<Figure size 432x288 with 1 Axes>"
      ],
      "image/png": "[encoded data removed]"
     },
     "metadata": {
      "needs_background": "light"
     }
    }
   ],
   "metadata": {}
  }
 ],
 "metadata": {
  "interpreter": {
   "hash": "0b44c525ca95e5dbf893da2282eb3ec3f420cb9fa59d94f9af90ca833dc1a37c"
  },
  "kernelspec": {
   "name": "python3",
   "display_name": "Python 3.7.10 64-bit ('pytorch': conda)"
  },
  "language_info": {
   "codemirror_mode": {
    "name": "ipython",
    "version": 3
   },
   "file_extension": ".py",
   "mimetype": "text/x-python",
   "name": "python",
   "nbconvert_exporter": "python",
   "pygments_lexer": "ipython3",
   "version": "3.7.10"
  }
 },
 "nbformat": 4,
 "nbformat_minor": 2
}