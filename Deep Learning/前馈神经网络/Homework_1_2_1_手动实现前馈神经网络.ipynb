{
 "cells": [
  {
   "cell_type": "markdown",
   "source": [
    "# 实验一：手动实现前馈神经网络\r\n",
    "姓名：王恩泰\r\n",
    "\r\n",
    "学号：21114019"
   ],
   "metadata": {}
  },
  {
   "cell_type": "markdown",
   "source": [
    "# 一. 回归问题"
   ],
   "metadata": {}
  },
  {
   "cell_type": "code",
   "execution_count": 1,
   "source": [
    "import numpy as np\r\n",
    "import torch\r\n",
    "import torchvision\r\n",
    "import torchvision.transforms as transforms\r\n",
    "import matplotlib.pyplot as plt\r\n",
    "import torch.utils.data as Data"
   ],
   "outputs": [],
   "metadata": {}
  },
  {
   "cell_type": "markdown",
   "source": [
    "## 1. 随机生成数据集"
   ],
   "metadata": {}
  },
  {
   "cell_type": "code",
   "execution_count": 2,
   "source": [
    "num_train, num_test = 700, 300\r\n",
    "dim_w = 100\r\n",
    "\r\n",
    "# 真实参数值\r\n",
    "true_w = 2 * torch.ones(dim_w, 1)\r\n",
    "true_b = 1\r\n",
    "\r\n",
    "total_x = torch.randn((num_train+num_test, dim_w))\r\n",
    "true_total_y = torch.matmul(total_x, true_w)+true_b\r\n",
    "rand_total_y = torch.tensor(np.random.normal(0, 0.01, size=true_total_y.size()), dtype=torch.float) # 为生成的label添加随机扰动\r\n",
    "\r\n",
    "train_x = total_x[:num_train, :]\r\n",
    "train_y = rand_total_y[:num_train, :]\r\n",
    "test_x = total_x[num_train:, :]\r\n",
    "test_y = rand_total_y[num_train:, :]\r\n",
    "\r\n",
    "print(train_x.size())\r\n",
    "print(train_y.size())\r\n",
    "print(test_x.size())\r\n",
    "print(test_y.size())"
   ],
   "outputs": [
    {
     "output_type": "stream",
     "name": "stdout",
     "text": [
      "torch.Size([700, 100])\n",
      "torch.Size([700, 1])\n",
      "torch.Size([300, 100])\n",
      "torch.Size([300, 1])\n"
     ]
    }
   ],
   "metadata": {}
  },
  {
   "cell_type": "markdown",
   "source": [
    "## 2. 定义相关模块函数"
   ],
   "metadata": {}
  },
  {
   "cell_type": "code",
   "execution_count": 3,
   "source": [
    "# 1. 初始化参数w和b\r\n",
    "def init_params():\r\n",
    "    w = torch.rand((dim_w, 1), requires_grad=True)\r\n",
    "    b = torch.zeros(1, requires_grad=True)\r\n",
    "    return [w,b]\r\n",
    "\r\n",
    "# 2. 计算线性模型\r\n",
    "def linear_model(x,w,b):\r\n",
    "    z = torch.mm(x,w)+b\r\n",
    "    return z\r\n",
    "\r\n",
    "# 3. 损失函数\r\n",
    "def loss_func(y_true, y_predict):\r\n",
    "    loss = ((y_true - y_predict.view(y_true.size())) ** 2) / 2\r\n",
    "    return loss\r\n",
    "\r\n",
    "# 4. 梯度下降\r\n",
    "def sgd(params, lr, batch_size):\r\n",
    "    for para in params:\r\n",
    "        para.data -= lr*para.grad"
   ],
   "outputs": [],
   "metadata": {}
  },
  {
   "cell_type": "markdown",
   "source": [
    "## 3. 模型训练参数"
   ],
   "metadata": {}
  },
  {
   "cell_type": "code",
   "execution_count": 4,
   "source": [
    "batch_size = 10\r\n",
    "lr = 0.005\r\n",
    "max_epochs = 20\r\n",
    "\r\n",
    "train_dataset = Data.TensorDataset(train_x, train_y)\r\n",
    "train_iter = Data.DataLoader(dataset=train_dataset,batch_size=batch_size,shuffle=True)"
   ],
   "outputs": [],
   "metadata": {}
  },
  {
   "cell_type": "markdown",
   "source": [
    "## 4. 模型训练"
   ],
   "metadata": {}
  },
  {
   "cell_type": "code",
   "execution_count": 5,
   "source": [
    "[w,b] = init_params()\r\n",
    "train_loss_list = []\r\n",
    "test_loss_list = []\r\n",
    "\r\n",
    "for epoch in range(max_epochs):\r\n",
    "    for train_x_iter,train_y_iter in train_iter:\r\n",
    "        y_predict = linear_model(train_x_iter,w,b)\r\n",
    "        # print(y_predict)\r\n",
    "        # print(train_y_iter)\r\n",
    "        train_loss = loss_func(train_y_iter, y_predict)\r\n",
    "        train_loss = train_loss.sum()\r\n",
    "        # print(train_loss)\r\n",
    "\r\n",
    "        # 先梯度清零在反向计算？\r\n",
    "        if w.grad is not None:\r\n",
    "            w.grad.data.zero_()\r\n",
    "            b.grad.data.zero_()\r\n",
    "        train_loss.backward()\r\n",
    "        # 梯度更新\r\n",
    "        sgd([w,b],lr,batch_size)\r\n",
    "    train_loss_epoch = loss_func(linear_model(train_x,w,b), train_y)\r\n",
    "    train_loss_list.append(train_loss_epoch.mean().item())\r\n",
    "\r\n",
    "    test_loss_epoch = loss_func(linear_model(test_x,w,b), test_y)\r\n",
    "    test_loss_list.append(float(test_loss_epoch.mean()))\r\n",
    "\r\n",
    "    print('iter: %d, train_loss= %f, test_loss= %f' % (epoch, train_loss_epoch.mean(), test_loss_epoch.mean()))\r\n",
    "print('iter: %d, train_loss= %f, test_loss= %f' % (epoch, train_loss_epoch.mean(), test_loss_epoch.mean()))\r\n",
    "plt.plot(train_loss_list, label='train loss')\r\n",
    "plt.plot(test_loss_list, label='test loss')\r\n",
    "plt.legend() \r\n",
    "plt.show()    "
   ],
   "outputs": [
    {
     "output_type": "stream",
     "name": "stdout",
     "text": [
      "iter: 0, train_loss= 0.051214, test_loss= 0.074450\n",
      "iter: 1, train_loss= 0.000703, test_loss= 0.001189\n",
      "iter: 2, train_loss= 0.000068, test_loss= 0.000082\n",
      "iter: 3, train_loss= 0.000053, test_loss= 0.000062\n",
      "iter: 4, train_loss= 0.000050, test_loss= 0.000062\n",
      "iter: 5, train_loss= 0.000054, test_loss= 0.000066\n",
      "iter: 6, train_loss= 0.000054, test_loss= 0.000062\n",
      "iter: 7, train_loss= 0.000054, test_loss= 0.000057\n",
      "iter: 8, train_loss= 0.000055, test_loss= 0.000068\n",
      "iter: 9, train_loss= 0.000052, test_loss= 0.000058\n",
      "iter: 10, train_loss= 0.000054, test_loss= 0.000061\n",
      "iter: 11, train_loss= 0.000053, test_loss= 0.000060\n",
      "iter: 12, train_loss= 0.000055, test_loss= 0.000060\n",
      "iter: 13, train_loss= 0.000055, test_loss= 0.000065\n",
      "iter: 14, train_loss= 0.000055, test_loss= 0.000065\n",
      "iter: 15, train_loss= 0.000054, test_loss= 0.000061\n",
      "iter: 16, train_loss= 0.000054, test_loss= 0.000070\n",
      "iter: 17, train_loss= 0.000053, test_loss= 0.000063\n",
      "iter: 18, train_loss= 0.000056, test_loss= 0.000066\n",
      "iter: 19, train_loss= 0.000050, test_loss= 0.000061\n",
      "iter: 19, train_loss= 0.000050, test_loss= 0.000061\n"
     ]
    },
    {
     "output_type": "display_data",
     "data": {
      "text/plain": [
       "<Figure size 432x288 with 1 Axes>"
      ],
      "image/png": "[encoded data removed]"
     },
     "metadata": {
      "needs_background": "light"
     }
    }
   ],
   "metadata": {}
  },
  {
   "cell_type": "markdown",
   "source": [
    "# 二、二分类问题"
   ],
   "metadata": {}
  },
  {
   "cell_type": "markdown",
   "source": [
    "## 1. 随机生成两类数据"
   ],
   "metadata": {}
  },
  {
   "cell_type": "code",
   "execution_count": 6,
   "source": [
    "n_data = torch.ones(1000, 20) # 1000*20的数据基本形态\r\n",
    "x1 = torch.normal(2*n_data,1) # 均值为2，方差为1, 1000*20规格的随机数据（Feature）\r\n",
    "y1 = torch.zeros(1000) # 1000个分到0类\r\n",
    "x2 = torch.normal(-2*n_data,1) # 均值为-2，方差为1, 1000*20规格的随机数据（Feature）\r\n",
    "y2 = torch.ones(1000) # 1000个分到1类\r\n",
    "\r\n",
    "# 合并数据，把所有产生的x,0按行拼接\r\n",
    "x_train_data = torch.cat((x1[0:700],x2[0:700]),0).type(torch.FloatTensor)\r\n",
    "y_train_data = torch.cat((y1[0:700],y2[0:700]),0).type(torch.FloatTensor)\r\n",
    "print(x_train_data.size())\r\n",
    "print(y_train_data.size())\r\n",
    "\r\n",
    "x_test_data = torch.cat((x1[700:1000],x2[700:1000]),0).type(torch.FloatTensor)\r\n",
    "y_test_data = torch.cat((y1[700:1000],y2[700:1000]),0).type(torch.FloatTensor)\r\n",
    "print(x_test_data.size())\r\n",
    "print(y_test_data.size())\r\n",
    "\r\n",
    "train_dataset = Data.TensorDataset(x_train_data, y_train_data)\r\n",
    "test_dataset = Data.TensorDataset(x_test_data, y_test_data)\r\n",
    "train_iter = Data.DataLoader(dataset=train_dataset,batch_size=batch_size,shuffle=True)\r\n",
    "test_iter = Data.DataLoader(dataset=test_dataset,batch_size=batch_size,shuffle=True)"
   ],
   "outputs": [
    {
     "output_type": "stream",
     "name": "stdout",
     "text": [
      "torch.Size([1400, 20])\n",
      "torch.Size([1400])\n",
      "torch.Size([600, 20])\n",
      "torch.Size([600])\n"
     ]
    }
   ],
   "metadata": {}
  },
  {
   "cell_type": "markdown",
   "source": [
    "## 2. 定义相关模块函数"
   ],
   "metadata": {}
  },
  {
   "cell_type": "code",
   "execution_count": 7,
   "source": [
    "# 1. 初始化参数w和b\r\n",
    "num_inputs, num_outputs, num_hiddens = 20, 1, 50 # 输入层=feature数量，输出层=1，隐藏层\r\n",
    "w1 = torch.tensor(np.random.normal(0, 0.01, (num_hiddens, num_inputs)), dtype=torch.float)\r\n",
    "b1 = torch.zeros(num_hiddens, dtype=torch.float)\r\n",
    "w2 = torch.tensor(np.random.normal(0, 0.01, (num_outputs, num_hiddens)), dtype=torch.float)\r\n",
    "b2 = torch.ones(num_outputs, dtype=torch.float)\r\n",
    "params = [w1, b1, w2, b2]\r\n",
    "for para in params:\r\n",
    "    para.requires_grad_(requires_grad=True)\r\n",
    "\r\n",
    "# 2. 定义Relu激活函数\r\n",
    "def relu(x):\r\n",
    "    return torch.max(input=x, other=torch.tensor(0.0))\r\n",
    "\r\n",
    "# 3. 定义模型\r\n",
    "def net(X):\r\n",
    "    X = X.view((-1, num_inputs))\r\n",
    "    H = relu(torch.matmul(X, w1.t()) + b1)\r\n",
    "    return torch.matmul(H, w2.t()) + b2\r\n",
    "\r\n",
    "# 4. 交叉熵损失函数\r\n",
    "def loss_func(y_true, y_predict):\r\n",
    "    loss = ((y_true - y_predict.view(y_true.size())) ** 2) / 2\r\n",
    "    return loss\r\n",
    "\r\n",
    "# 5. 定义随机梯度下降\r\n",
    "def sgd(params, lr, batch_size):\r\n",
    "    for param in params:\r\n",
    "        param.data -= lr * param.grad / batch_size # 为什么要除上batch_size?"
   ],
   "outputs": [],
   "metadata": {}
  },
  {
   "cell_type": "markdown",
   "source": [
    "## 3. 构建训练模型"
   ],
   "metadata": {}
  },
  {
   "cell_type": "code",
   "execution_count": 8,
   "source": [
    "num_epochs = 100\r\n",
    "lr = 0.05\r\n",
    "batch_size = 10\r\n",
    "optimizer = None\r\n",
    "train_loss_list = []\r\n",
    "test_loss_list = []\r\n",
    "train_acc_list = []\r\n",
    "test_acc_list = []\r\n",
    "\r\n",
    "for epoch in range(num_epochs):\r\n",
    "    train_loss_sum = 0\r\n",
    "    train_acc_sum = 0\r\n",
    "    n_train = 0\r\n",
    "    for x_train, y_train in train_iter:\r\n",
    "        y_hat = net(x_train)\r\n",
    "        # print(y_train)\r\n",
    "        # print(y_hat.squeeze(-1))\r\n",
    "        l = loss_func(y_hat, y_train).sum()\r\n",
    "        if optimizer is not None:\r\n",
    "            optimizer.zero_grad()\r\n",
    "        elif params is not None and params[0].grad is not None:\r\n",
    "            for param in params:\r\n",
    "                param.grad.data.zero_()\r\n",
    "        l.backward()\r\n",
    "        if optimizer is None:\r\n",
    "            sgd(params, lr, batch_size)\r\n",
    "        else:\r\n",
    "            optimizer.step()\r\n",
    "        train_loss_sum += l.item()\r\n",
    "        n_train += y_hat.shape[0]\r\n",
    "        train_acc_sum += (y_hat.ge(0.5).float().squeeze() == y_train).sum().item()\r\n",
    "\r\n",
    "    train_loss_list.append(train_loss_sum/n_train)\r\n",
    "    train_acc_list.append(train_acc_sum/n_train)\r\n",
    "\r\n",
    "    # for test loss value\r\n",
    "    test_loss_sum = 0\r\n",
    "    test_acc_sum = 0\r\n",
    "    n_test = 0\r\n",
    "    for x_test,y_test in test_iter:\r\n",
    "        y_hat = net(x_test)\r\n",
    "        l = loss_func(y_hat, y_test).sum()\r\n",
    "        test_loss_sum += l.item()\r\n",
    "        n_test += y_hat.shape[0]\r\n",
    "        test_acc_sum += (y_hat.ge(0.5).float().squeeze() == y_test).sum().item()\r\n",
    "\r\n",
    "    test_loss_list.append(test_loss_sum/n_test)\r\n",
    "    test_acc_list.append(test_acc_sum/n_test)\r\n",
    "    if (epoch % 10 == 0):\r\n",
    "        print('iter: %d, train_loss= %f, test_loss= %f' % (epoch, train_loss_sum/n_train, test_loss_sum/n_test)) \r\n",
    "        print('iter: %d, train_acc= %f, test_acc= %f' % (epoch, train_acc_sum/n_train, test_acc_sum/n_test)) \r\n",
    "print('iter: %d, train_loss= %f, test_loss= %f' % (epoch, train_loss_sum/n_train, test_loss_sum/n_test)) \r\n",
    "print('iter: %d, train_acc= %f, test_acc= %f' % (epoch, train_acc_sum/n_train, test_acc_sum/n_test))    \r\n",
    "plt.plot(train_loss_list, label='train loss')\r\n",
    "plt.plot(test_loss_list, label='test loss')\r\n",
    "plt.legend() \r\n",
    "plt.show()     \r\n",
    "plt.plot(train_acc_list, label='train acc')\r\n",
    "plt.plot(test_acc_list, label='test acc')\r\n",
    "plt.legend() \r\n",
    "plt.show()     "
   ],
   "outputs": [
    {
     "output_type": "stream",
     "name": "stdout",
     "text": [
      "iter: 0, train_loss= 0.015506, test_loss= 0.002458\n",
      "iter: 0, train_acc= 0.965714, test_acc= 1.000000\n",
      "iter: 10, train_loss= 0.001583, test_loss= 0.001800\n",
      "iter: 10, train_acc= 1.000000, test_acc= 1.000000\n",
      "iter: 20, train_loss= 0.001347, test_loss= 0.001605\n",
      "iter: 20, train_acc= 1.000000, test_acc= 1.000000\n",
      "iter: 30, train_loss= 0.001223, test_loss= 0.001416\n",
      "iter: 30, train_acc= 1.000000, test_acc= 1.000000\n",
      "iter: 40, train_loss= 0.001128, test_loss= 0.001310\n",
      "iter: 40, train_acc= 1.000000, test_acc= 1.000000\n",
      "iter: 50, train_loss= 0.001008, test_loss= 0.001237\n",
      "iter: 50, train_acc= 1.000000, test_acc= 1.000000\n",
      "iter: 60, train_loss= 0.000915, test_loss= 0.001051\n",
      "iter: 60, train_acc= 1.000000, test_acc= 1.000000\n",
      "iter: 70, train_loss= 0.000811, test_loss= 0.000971\n",
      "iter: 70, train_acc= 1.000000, test_acc= 1.000000\n",
      "iter: 80, train_loss= 0.000746, test_loss= 0.000877\n",
      "iter: 80, train_acc= 1.000000, test_acc= 1.000000\n",
      "iter: 90, train_loss= 0.000688, test_loss= 0.000864\n",
      "iter: 90, train_acc= 1.000000, test_acc= 1.000000\n",
      "iter: 99, train_loss= 0.000628, test_loss= 0.000736\n",
      "iter: 99, train_acc= 1.000000, test_acc= 1.000000\n"
     ]
    },
    {
     "output_type": "display_data",
     "data": {
      "text/plain": [
       "<Figure size 432x288 with 1 Axes>"
      ],
      "image/png": "[encoded data removed]"
     },
     "metadata": {
      "needs_background": "light"
     }
    },
    {
     "output_type": "display_data",
     "data": {
      "text/plain": [
       "<Figure size 432x288 with 1 Axes>"
      ],
      "image/png": "[encoded data removed]"
     },
     "metadata": {
      "needs_background": "light"
     }
    }
   ],
   "metadata": {}
  },
  {
   "cell_type": "markdown",
   "source": [
    "# 三、多分类问题"
   ],
   "metadata": {}
  },
  {
   "cell_type": "markdown",
   "source": [
    "## 1. 读取数据集"
   ],
   "metadata": {}
  },
  {
   "cell_type": "code",
   "execution_count": 9,
   "source": [
    "# 训练集\r\n",
    "mnist_train = torchvision.datasets.FashionMNIST(root='./Datasets', train=True,\r\n",
    "                                                download=False, transform=transforms.ToTensor())\r\n",
    "# 测试集\r\n",
    "mnist_test = torchvision.datasets.FashionMNIST(root='./Datasets', train=False,\r\n",
    "                                                download=False, transform=transforms.ToTensor())\r\n",
    "\r\n",
    "# 通过DataLoader读取小批量数据样本\r\n",
    "batch_size = 256\r\n",
    "num_workers = 0\r\n",
    "train_data = torch.utils.data.DataLoader(mnist_train, batch_size=batch_size, shuffle=True,\r\n",
    "num_workers=num_workers)\r\n",
    "test_data = torch.utils.data.DataLoader(mnist_test, batch_size=batch_size, shuffle=False,\r\n",
    "num_workers=num_workers)"
   ],
   "outputs": [],
   "metadata": {}
  },
  {
   "cell_type": "markdown",
   "source": [
    "## 2. 定义相关函数模块"
   ],
   "metadata": {}
  },
  {
   "cell_type": "code",
   "execution_count": 10,
   "source": [
    "# 1. 初始化模型参数\r\n",
    "num_inputs, num_outputs, num_hiddens = 784, 10, 256\r\n",
    "w1 = torch.tensor(np.random.normal(0, 0.01, (num_hiddens, num_inputs)), dtype=torch.float)\r\n",
    "b1 = torch.zeros(num_hiddens, dtype=torch.float)\r\n",
    "w2 = torch.tensor(np.random.normal(0, 0.01, (num_outputs, num_hiddens)), dtype=torch.float)\r\n",
    "b2 = torch.ones(num_outputs, dtype=torch.float)\r\n",
    "\r\n",
    "params = [w1, b1, w2, b2]\r\n",
    "for param in params:\r\n",
    "    param.requires_grad_(requires_grad=True)\r\n",
    "\r\n",
    "# 2. 定义激活函数\r\n",
    "def relu(X):\r\n",
    "    return torch.max(input=X, other=torch.tensor(0.0))\r\n",
    "\r\n",
    "# 3. 定义网络\r\n",
    "def net(X):\r\n",
    "    X = X.view((-1, num_inputs))\r\n",
    "    H = relu(torch.matmul(X, w1.t()) + b1)\r\n",
    "    return torch.matmul(H, w2.t()) + b2\r\n",
    "\r\n",
    "# 4. 交叉熵损失函数（不能用平方误差）\r\n",
    "# def loss_func(y_true, y_predict):\r\n",
    "#     loss = ((y_true - y_predict.view(y_true.size())) ** 2) / 2\r\n",
    "#     return loss\r\n",
    "loss = torch.nn.CrossEntropyLoss()\r\n",
    "\r\n",
    "# 5.梯度下降\r\n",
    "def sgd(params, lr):\r\n",
    "    for param in params:\r\n",
    "        param.data -= lr * param.grad "
   ],
   "outputs": [],
   "metadata": {}
  },
  {
   "cell_type": "markdown",
   "source": [
    "## 3. 构建训练模型"
   ],
   "metadata": {}
  },
  {
   "cell_type": "code",
   "execution_count": 11,
   "source": [
    "num_epochs = 50\r\n",
    "lr = 0.1\r\n",
    "# batch_size = 10\r\n",
    "optimizer = None\r\n",
    "train_loss_list = []\r\n",
    "test_loss_list = []\r\n",
    "train_acc_list = []\r\n",
    "test_acc_list = []\r\n",
    "\r\n",
    "for epoch in range(num_epochs):\r\n",
    "    train_loss_sum = 0\r\n",
    "    train_acc_sum = 0\r\n",
    "    train_n = 0\r\n",
    "    for x_train, y_train in train_data:\r\n",
    "        y_hat = net(x_train)\r\n",
    "        # y_hat = y_hat.argmax(dim=1) # 找最大概率那个,使用交叉熵不需要\r\n",
    "        # print(y_train)\r\n",
    "        # print(y_hat)\r\n",
    "        l = loss(y_hat, y_train).sum()\r\n",
    "        if optimizer is not None:\r\n",
    "            optimizer.zero_grad()\r\n",
    "        elif params is not None and params[0].grad is not None:\r\n",
    "            for param in params:\r\n",
    "                param.grad.data.zero_()\r\n",
    "        # l.requires_grad_(True) \r\n",
    "        l.backward()\r\n",
    "        if optimizer is None:\r\n",
    "            sgd(params, lr)\r\n",
    "        else:\r\n",
    "            optimizer.step()\r\n",
    "        train_loss_sum += l.item()\r\n",
    "        train_n += y_hat.shape[0]\r\n",
    "        train_acc_sum += (y_hat.argmax(dim=1) == y_train).sum().item()\r\n",
    "    train_loss_list.append(train_loss_sum/train_n)\r\n",
    "    train_acc_list.append(train_acc_sum/train_n)\r\n",
    "\r\n",
    "    # for test loss value\r\n",
    "    test_loss_sum = 0\r\n",
    "    test_n = 0\r\n",
    "    test_acc_sum = 0\r\n",
    "    for x_test,y_test in test_data:\r\n",
    "        y_hat = net(x_test)\r\n",
    "        l = loss(y_hat, y_test).sum()\r\n",
    "        test_loss_sum += l.item()\r\n",
    "        test_n += y_hat.shape[0]\r\n",
    "        test_acc_sum += (y_hat.argmax(dim=1) == y_test).sum().item()\r\n",
    "    test_loss_list.append(test_loss_sum/test_n)\r\n",
    "    test_acc_list.append(test_acc_sum/test_n)\r\n",
    "    if (epoch % 10 == 0):\r\n",
    "        print('iter: %d, train_loss= %f, test_loss= %f' % (epoch, train_loss_sum/train_n, test_loss_sum/test_n))\r\n",
    "        print('iter: %d, train_acc= %f, test_acc= %f' % (epoch, train_acc_sum/train_n, test_acc_sum/test_n))\r\n",
    "print('iter: %d, train_loss= %f, test_loss= %f' % (epoch, train_loss_sum/train_n, test_loss_sum/test_n))\r\n",
    "print('iter: %d, train_acc= %f, test_acc= %f' % (epoch, train_acc_sum/train_n, test_acc_sum/test_n))   \r\n",
    "plt.plot(train_loss_list, label='train loss')\r\n",
    "plt.plot(test_loss_list, label='test loss')\r\n",
    "plt.legend() \r\n",
    "plt.show()\r\n",
    "plt.plot(train_acc_list, label='train acc')\r\n",
    "plt.plot(test_acc_list, label='test acc')\r\n",
    "plt.legend() \r\n",
    "plt.show()"
   ],
   "outputs": [
    {
     "output_type": "stream",
     "name": "stdout",
     "text": [
      "iter: 0, train_loss= 0.004076, test_loss= 0.003051\n",
      "iter: 0, train_acc= 0.639917, test_acc= 0.721400\n",
      "iter: 10, train_loss= 0.001474, test_loss= 0.001643\n",
      "iter: 10, train_acc= 0.866567, test_acc= 0.852800\n",
      "iter: 20, train_loss= 0.001243, test_loss= 0.001446\n",
      "iter: 20, train_acc= 0.886333, test_acc= 0.870000\n",
      "iter: 30, train_loss= 0.001100, test_loss= 0.001419\n",
      "iter: 30, train_acc= 0.899600, test_acc= 0.871000\n",
      "iter: 40, train_loss= 0.000999, test_loss= 0.001353\n",
      "iter: 40, train_acc= 0.908250, test_acc= 0.876700\n",
      "iter: 49, train_loss= 0.000929, test_loss= 0.001331\n",
      "iter: 49, train_acc= 0.915500, test_acc= 0.879800\n"
     ]
    },
    {
     "output_type": "display_data",
     "data": {
      "text/plain": [
       "<Figure size 432x288 with 1 Axes>"
      ],
      "image/png": "[encoded data removed]"
     },
     "metadata": {
      "needs_background": "light"
     }
    },
    {
     "output_type": "display_data",
     "data": {
      "text/plain": [
       "<Figure size 432x288 with 1 Axes>"
      ],
      "image/png": "[encoded data removed]"
     },
     "metadata": {
      "needs_background": "light"
     }
    }
   ],
   "metadata": {}
  },
  {
   "cell_type": "code",
   "execution_count": null,
   "source": [],
   "outputs": [],
   "metadata": {}
  }
 ],
 "metadata": {
  "interpreter": {
   "hash": "0b44c525ca95e5dbf893da2282eb3ec3f420cb9fa59d94f9af90ca833dc1a37c"
  },
  "kernelspec": {
   "name": "python3",
   "display_name": "Python 3.7.10 64-bit ('pytorch': conda)"
  },
  "language_info": {
   "codemirror_mode": {
    "name": "ipython",
    "version": 3
   },
   "file_extension": ".py",
   "mimetype": "text/x-python",
   "name": "python",
   "nbconvert_exporter": "python",
   "pygments_lexer": "ipython3",
   "version": "3.7.10"
  }
 },
 "nbformat": 4,
 "nbformat_minor": 2
}