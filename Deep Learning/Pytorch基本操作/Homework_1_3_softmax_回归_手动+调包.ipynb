{
 "cells": [
  {
   "cell_type": "markdown",
   "source": [
    "# 实验三：Softmax回归\n",
    "姓名：王恩泰\n",
    "\n",
    "学号：21114019"
   ],
   "metadata": {}
  },
  {
   "cell_type": "markdown",
   "source": [
    "# 1. 自主实现Softmax"
   ],
   "metadata": {}
  },
  {
   "cell_type": "code",
   "execution_count": 1,
   "source": [
    "import numpy as np\r\n",
    "import torch\r\n",
    "import torchvision\r\n",
    "import torchvision.transforms as transforms\r\n",
    "import matplotlib.pyplot as plt"
   ],
   "outputs": [],
   "metadata": {}
  },
  {
   "cell_type": "markdown",
   "source": [
    "## 1. 读取数据"
   ],
   "metadata": {}
  },
  {
   "cell_type": "code",
   "execution_count": 3,
   "source": [
    "# 训练集\r\n",
    "mnist_train = torchvision.datasets.FashionMNIST(root='./Datasets', train=True,\r\n",
    "                                                download=False, transform=transforms.ToTensor())\r\n",
    "# 测试集\r\n",
    "mnist_test = torchvision.datasets.FashionMNIST(root='./Datasets', train=False,\r\n",
    "                                                download=False, transform=transforms.ToTensor())\r\n",
    "\r\n",
    "# 通过DataLoader读取小批量数据样本\r\n",
    "batch_size = 256\r\n",
    "num_workers = 0\r\n",
    "train_data = torch.utils.data.DataLoader(mnist_train, batch_size=batch_size, shuffle=True,\r\n",
    "num_workers=num_workers)\r\n",
    "test_data = torch.utils.data.DataLoader(mnist_test, batch_size=batch_size, shuffle=False,\r\n",
    "num_workers=num_workers)"
   ],
   "outputs": [],
   "metadata": {}
  },
  {
   "cell_type": "markdown",
   "source": [
    "## 2. 定义相关模型"
   ],
   "metadata": {}
  },
  {
   "cell_type": "code",
   "execution_count": null,
   "source": [
    "# Softmax公式：y_predict = softmax(w*x_train+b)\r\n",
    "def softmax(x, w, b):\r\n",
    "    # print(x)\r\n",
    "    y = torch.mm(x.view((-1, num_input)),w)+b # 这里.view((-1, num_input)的作用？\r\n",
    "    prob = (y.exp())/(y.exp().sum(dim=1, keepdim=True))\r\n",
    "    # print(prob)\r\n",
    "    return prob\r\n",
    "\r\n",
    "# 梯度下降\r\n",
    "def grad_descent(arg, lr, batch_size):\r\n",
    "    for item in arg:\r\n",
    "        item.data = item.data - lr * item.grad / batch_size\r\n",
    "\r\n",
    "# 交叉熵 (参考PPT P55)\r\n",
    "def cross_entropy(y_hat, y):\r\n",
    "    return - torch.log(y_hat.gather(1,y.view(-1,1)))"
   ],
   "outputs": [],
   "metadata": {}
  },
  {
   "cell_type": "markdown",
   "source": [
    "## 3. 初始化参数"
   ],
   "metadata": {}
  },
  {
   "cell_type": "code",
   "execution_count": null,
   "source": [
    "num_input = 28*28 # 每个样本的数据格式为28*28*1\r\n",
    "num_output = 10 # label共10类\r\n",
    "\r\n",
    "# w和b的初值\r\n",
    "w = torch.tensor(np.random.normal(0,0.01,(num_input,num_output)), dtype=torch.float, requires_grad = True) # 均匀分布初值\r\n",
    "# w = torch.tensor(np.ones((num_input,num_output)), dtype=torch.float, requires_grad = True)\r\n",
    "b = torch.zeros(num_output, dtype=torch.float, requires_grad = True)\r\n",
    "# print(w)\r\n",
    "# print(b)\r\n",
    "lr = 0.05 # 学习率\r\n",
    "max_iter = 100\r\n",
    "g_loss_list = []"
   ],
   "outputs": [],
   "metadata": {}
  },
  {
   "cell_type": "markdown",
   "source": [
    "## 4. 模型训练"
   ],
   "metadata": {}
  },
  {
   "cell_type": "code",
   "execution_count": null,
   "source": [
    "for iter in range(max_iter):\r\n",
    "    loss_sum = 0.0  \r\n",
    "    for train_x, train_y in train_data:\r\n",
    "        # print(train_x)\r\n",
    "        # print(train_y)\r\n",
    "        y_predict = softmax(train_x, w, b)\r\n",
    "        loss_val = cross_entropy(y_predict, train_y).sum() # 交叉熵求loss\r\n",
    "        loss_val.backward() # 反向计算各个参数梯度信息\r\n",
    "        grad_descent([w,b], lr, batch_size) # 更新梯度：梯度下降\r\n",
    "        # 梯度归零\r\n",
    "        w.grad.data.zero_()\r\n",
    "        b.grad.data.zero_()\r\n",
    "        loss_sum = loss_sum + loss_val.item()\r\n",
    "    # print('iter: %d, loss = %f' % (iter, loss_sum))\r\n",
    "    g_loss_list.append(loss_sum)\r\n",
    "plt.plot(g_loss_list)\r\n",
    "plt.show()\r\n"
   ],
   "outputs": [
    {
     "output_type": "stream",
     "name": "stdout",
     "text": [
      "iter: 0, loss = 54783.900993\n",
      "iter: 1, loss = 38472.032970\n",
      "iter: 2, loss = 34903.705154\n",
      "iter: 3, loss = 32990.594078\n",
      "iter: 4, loss = 31734.883720\n",
      "iter: 5, loss = 30834.766045\n",
      "iter: 6, loss = 30083.559048\n",
      "iter: 7, loss = 29540.558315\n",
      "iter: 8, loss = 29076.460476\n",
      "iter: 9, loss = 28672.431492\n",
      "iter: 10, loss = 28353.196312\n",
      "iter: 11, loss = 28053.903145\n",
      "iter: 12, loss = 27806.280281\n",
      "iter: 13, loss = 27547.656452\n",
      "iter: 14, loss = 27341.876465\n",
      "iter: 15, loss = 27148.957104\n",
      "iter: 16, loss = 27005.678635\n",
      "iter: 17, loss = 26825.291344\n",
      "iter: 18, loss = 26718.194614\n",
      "iter: 19, loss = 26562.071972\n",
      "iter: 20, loss = 26415.610115\n",
      "iter: 21, loss = 26315.718567\n",
      "iter: 22, loss = 26203.817135\n",
      "iter: 23, loss = 26108.925617\n",
      "iter: 24, loss = 25998.659794\n",
      "iter: 25, loss = 25912.944992\n",
      "iter: 26, loss = 25836.031277\n",
      "iter: 27, loss = 25742.383591\n",
      "iter: 28, loss = 25662.879963\n",
      "iter: 29, loss = 25587.445690\n",
      "iter: 30, loss = 25510.608013\n",
      "iter: 31, loss = 25455.210968\n",
      "iter: 32, loss = 25379.049065\n",
      "iter: 33, loss = 25330.530144\n",
      "iter: 34, loss = 25262.249443\n",
      "iter: 35, loss = 25218.035152\n",
      "iter: 36, loss = 25140.869698\n",
      "iter: 37, loss = 25081.279633\n",
      "iter: 38, loss = 25051.525654\n",
      "iter: 39, loss = 24995.400951\n",
      "iter: 40, loss = 24946.110313\n",
      "iter: 41, loss = 24920.447102\n",
      "iter: 42, loss = 24847.654003\n",
      "iter: 43, loss = 24821.732548\n",
      "iter: 44, loss = 24753.675522\n",
      "iter: 45, loss = 24725.605743\n",
      "iter: 46, loss = 24691.740784\n",
      "iter: 47, loss = 24649.968506\n",
      "iter: 48, loss = 24612.058430\n",
      "iter: 49, loss = 24564.597908\n",
      "iter: 50, loss = 24515.127535\n",
      "iter: 51, loss = 24517.922321\n",
      "iter: 52, loss = 24487.493168\n",
      "iter: 53, loss = 24434.041218\n",
      "iter: 54, loss = 24412.631645\n",
      "iter: 55, loss = 24366.610619\n",
      "iter: 56, loss = 24358.173473\n",
      "iter: 57, loss = 24314.041416\n",
      "iter: 58, loss = 24296.057156\n",
      "iter: 59, loss = 24261.309790\n",
      "iter: 60, loss = 24243.275578\n",
      "iter: 61, loss = 24210.051502\n",
      "iter: 62, loss = 24150.989231\n",
      "iter: 63, loss = 24153.139244\n",
      "iter: 64, loss = 24140.182285\n",
      "iter: 65, loss = 24106.256027\n",
      "iter: 66, loss = 24074.115883\n",
      "iter: 67, loss = 24052.653923\n",
      "iter: 68, loss = 24023.094509\n",
      "iter: 69, loss = 24010.237164\n",
      "iter: 70, loss = 24001.993866\n",
      "iter: 71, loss = 23970.010689\n",
      "iter: 72, loss = 23943.075729\n",
      "iter: 73, loss = 23931.125034\n",
      "iter: 74, loss = 23890.676079\n",
      "iter: 75, loss = 23861.099884\n",
      "iter: 76, loss = 23852.375130\n",
      "iter: 77, loss = 23837.797153\n",
      "iter: 78, loss = 23817.821991\n",
      "iter: 79, loss = 23788.949579\n",
      "iter: 80, loss = 23766.416389\n",
      "iter: 81, loss = 23757.273361\n",
      "iter: 82, loss = 23756.581097\n",
      "iter: 83, loss = 23702.787979\n",
      "iter: 84, loss = 23696.587502\n",
      "iter: 85, loss = 23693.348076\n",
      "iter: 86, loss = 23650.019394\n",
      "iter: 87, loss = 23651.688330\n",
      "iter: 88, loss = 23630.097725\n",
      "iter: 89, loss = 23631.324520\n",
      "iter: 90, loss = 23598.307980\n",
      "iter: 91, loss = 23577.886486\n",
      "iter: 92, loss = 23592.111477\n",
      "iter: 93, loss = 23575.567123\n",
      "iter: 94, loss = 23527.358730\n",
      "iter: 95, loss = 23539.028839\n",
      "iter: 96, loss = 23506.230537\n",
      "iter: 97, loss = 23509.088470\n",
      "iter: 98, loss = 23459.246033\n",
      "iter: 99, loss = 23481.656139\n"
     ]
    },
    {
     "output_type": "display_data",
     "data": {
      "text/plain": [
       "<Figure size 432x288 with 1 Axes>"
      ],
      "image/png": "[encoded data removed]"
     },
     "metadata": {
      "needs_background": "light"
     }
    }
   ],
   "metadata": {}
  },
  {
   "cell_type": "markdown",
   "source": [
    "## 5. 训练集准确率"
   ],
   "metadata": {}
  },
  {
   "cell_type": "code",
   "execution_count": null,
   "source": [
    "# train_accuracy\n",
    "train_acc_val = 0.0\n",
    "count = 0\n",
    "for train_x, train_y in train_data:\n",
    "    y_predict = softmax(train_x,w,b)\n",
    "    train_acc_val += (y_predict.argmax(dim=1) == train_y).float().sum().item()\n",
    "    count += y_predict.shape[0]\n",
    "train_acc_val = train_acc_val/count\n",
    "print('train accuracy = %f' % train_acc_val)"
   ],
   "outputs": [
    {
     "output_type": "stream",
     "name": "stdout",
     "text": [
      "train accuracy = 0.865767\n"
     ]
    }
   ],
   "metadata": {}
  },
  {
   "cell_type": "markdown",
   "source": [
    "## 6. 测试集准确率"
   ],
   "metadata": {}
  },
  {
   "cell_type": "code",
   "execution_count": null,
   "source": [
    "# test_accuracy\n",
    "test_acc_val = 0.0\n",
    "count = 0\n",
    "for test_x, test_y in test_data:\n",
    "    y_predict = softmax(test_x,w,b)\n",
    "    test_acc_val += (y_predict.argmax(dim=1) == test_y).float().sum().item()\n",
    "    count += y_predict.shape[0]\n",
    "test_acc_val = test_acc_val/count\n",
    "print('test accuracy = %f' % test_acc_val)"
   ],
   "outputs": [
    {
     "output_type": "stream",
     "name": "stdout",
     "text": [
      "test accuracy = 0.844200\n"
     ]
    }
   ],
   "metadata": {}
  },
  {
   "cell_type": "markdown",
   "source": [
    "# 二、利用torch.nn实现Softmax回归"
   ],
   "metadata": {}
  },
  {
   "cell_type": "code",
   "execution_count": null,
   "source": [
    "import torch\n",
    "import torch.nn as nn\n",
    "from torch.nn import init\n",
    "import torch.optim as optim\n",
    "import torchvision\n",
    "import torchvision.transforms as transforms"
   ],
   "outputs": [],
   "metadata": {}
  },
  {
   "cell_type": "markdown",
   "source": [
    "## 1. 构建Softmax模型"
   ],
   "metadata": {}
  },
  {
   "cell_type": "code",
   "execution_count": null,
   "source": [
    "class Softmax(nn.Module):\n",
    "    def __init__(self, num_input, num_output):\n",
    "        super(Softmax, self).__init__()\n",
    "        self.linear = nn.Linear(num_input, num_output)\n",
    "    def forward(self, x):\n",
    "        y = self.linear(x.view(x.shape[0],-1)) # 重构维度:垂直尺寸，重构为1维？？\n",
    "        return y"
   ],
   "outputs": [],
   "metadata": {}
  },
  {
   "cell_type": "markdown",
   "source": [
    "## 2. 初始化参数\n"
   ],
   "metadata": {}
  },
  {
   "cell_type": "code",
   "execution_count": null,
   "source": [
    "max_iter = 100\n",
    "\n",
    "# 初始化一个softmax实例\n",
    "softmax_model = Softmax(num_input, num_output)\n",
    "loss_func = nn.CrossEntropyLoss() # 交叉熵loss\n",
    "optimizer = optim.SGD(softmax_model.parameters(), lr = 0.05)\n",
    "\n",
    "# 初始化w和b\n",
    "torch.nn.init.normal_(softmax_model.linear.weight, mean=0, std=1)\n",
    "torch.nn.init.constant_(softmax_model.linear.bias, val=0)"
   ],
   "outputs": [
    {
     "output_type": "execute_result",
     "data": {
      "text/plain": [
       "Parameter containing:\n",
       "tensor([0., 0., 0., 0., 0., 0., 0., 0., 0., 0.], requires_grad=True)"
      ]
     },
     "metadata": {},
     "execution_count": 10
    }
   ],
   "metadata": {}
  },
  {
   "cell_type": "markdown",
   "source": [
    "## 3. 训练模型"
   ],
   "metadata": {}
  },
  {
   "cell_type": "code",
   "execution_count": null,
   "source": [
    "g_loss_list = []\n",
    "for iter in range(max_iter):\n",
    "    loss_sum = 0\n",
    "    for x_train,y_train in train_data:\n",
    "        y_predict = softmax_model(x_train.view(-1, num_input))\n",
    "        loss_value = loss_func(y_predict, y_train)\n",
    "        optimizer.zero_grad()\n",
    "        loss_value.backward()\n",
    "        optimizer.step() # 更新所有参数\n",
    "        loss_sum += loss_value.item()\n",
    "    # print('iter: %d, loss = %f' % (iter, loss_sum))\n",
    "    g_loss_list.append(loss_sum)\n",
    "plt.plot(g_loss_list)\n",
    "plt.show()"
   ],
   "outputs": [
    {
     "output_type": "stream",
     "name": "stdout",
     "text": [
      "iter: 0, loss = 974.453311\n",
      "iter: 1, loss = 544.852125\n",
      "iter: 2, loss = 462.571397\n",
      "iter: 3, loss = 416.313499\n",
      "iter: 4, loss = 385.063765\n",
      "iter: 5, loss = 361.601337\n",
      "iter: 6, loss = 342.807378\n",
      "iter: 7, loss = 327.768900\n",
      "iter: 8, loss = 315.276645\n",
      "iter: 9, loss = 303.479121\n",
      "iter: 10, loss = 294.215829\n",
      "iter: 11, loss = 285.604014\n",
      "iter: 12, loss = 278.416330\n",
      "iter: 13, loss = 271.320536\n",
      "iter: 14, loss = 264.856448\n",
      "iter: 15, loss = 259.681022\n",
      "iter: 16, loss = 254.352366\n",
      "iter: 17, loss = 249.351083\n",
      "iter: 18, loss = 245.164234\n",
      "iter: 19, loss = 240.709086\n",
      "iter: 20, loss = 237.172134\n",
      "iter: 21, loss = 233.363753\n",
      "iter: 22, loss = 229.985659\n",
      "iter: 23, loss = 226.868525\n",
      "iter: 24, loss = 223.613782\n",
      "iter: 25, loss = 220.528688\n",
      "iter: 26, loss = 217.997491\n",
      "iter: 27, loss = 215.671758\n",
      "iter: 28, loss = 212.933601\n",
      "iter: 29, loss = 210.601748\n",
      "iter: 30, loss = 208.239649\n",
      "iter: 31, loss = 206.216401\n",
      "iter: 32, loss = 204.169047\n",
      "iter: 33, loss = 202.271587\n",
      "iter: 34, loss = 200.350988\n",
      "iter: 35, loss = 198.432202\n",
      "iter: 36, loss = 196.774900\n",
      "iter: 37, loss = 195.082904\n",
      "iter: 38, loss = 193.502686\n",
      "iter: 39, loss = 191.884247\n",
      "iter: 40, loss = 190.606574\n",
      "iter: 41, loss = 188.995847\n",
      "iter: 42, loss = 187.569024\n",
      "iter: 43, loss = 186.442727\n",
      "iter: 44, loss = 185.077666\n",
      "iter: 45, loss = 183.519336\n",
      "iter: 46, loss = 182.355935\n",
      "iter: 47, loss = 181.474446\n",
      "iter: 48, loss = 180.028834\n",
      "iter: 49, loss = 178.912268\n",
      "iter: 50, loss = 177.939737\n",
      "iter: 51, loss = 176.776650\n",
      "iter: 52, loss = 175.970112\n",
      "iter: 53, loss = 174.857030\n",
      "iter: 54, loss = 173.750945\n",
      "iter: 55, loss = 172.716774\n",
      "iter: 56, loss = 171.690000\n",
      "iter: 57, loss = 170.785315\n",
      "iter: 58, loss = 169.850203\n",
      "iter: 59, loss = 169.071040\n",
      "iter: 60, loss = 168.141872\n",
      "iter: 61, loss = 167.576524\n",
      "iter: 62, loss = 166.504872\n",
      "iter: 63, loss = 165.755968\n",
      "iter: 64, loss = 165.071173\n",
      "iter: 65, loss = 164.409349\n",
      "iter: 66, loss = 163.311137\n",
      "iter: 67, loss = 162.658175\n",
      "iter: 68, loss = 162.050320\n",
      "iter: 69, loss = 161.299215\n",
      "iter: 70, loss = 160.645987\n",
      "iter: 71, loss = 159.814829\n",
      "iter: 72, loss = 159.087472\n",
      "iter: 73, loss = 158.531079\n",
      "iter: 74, loss = 157.947110\n",
      "iter: 75, loss = 157.438876\n",
      "iter: 76, loss = 156.785713\n",
      "iter: 77, loss = 156.120991\n",
      "iter: 78, loss = 155.633728\n",
      "iter: 79, loss = 154.730574\n",
      "iter: 80, loss = 154.281908\n",
      "iter: 81, loss = 153.594156\n",
      "iter: 82, loss = 152.899929\n",
      "iter: 83, loss = 152.488172\n",
      "iter: 84, loss = 152.074208\n",
      "iter: 85, loss = 151.488339\n",
      "iter: 86, loss = 150.951756\n",
      "iter: 87, loss = 150.286258\n",
      "iter: 88, loss = 149.998722\n",
      "iter: 89, loss = 149.304563\n",
      "iter: 90, loss = 148.894143\n",
      "iter: 91, loss = 148.707024\n",
      "iter: 92, loss = 147.955095\n",
      "iter: 93, loss = 147.669426\n",
      "iter: 94, loss = 147.042832\n",
      "iter: 95, loss = 146.634234\n",
      "iter: 96, loss = 146.005332\n",
      "iter: 97, loss = 145.689369\n",
      "iter: 98, loss = 145.199351\n",
      "iter: 99, loss = 144.525456\n"
     ]
    },
    {
     "output_type": "display_data",
     "data": {
      "text/plain": [
       "<Figure size 432x288 with 1 Axes>"
      ],
      "image/png": "[encoded data removed]"
     },
     "metadata": {
      "needs_background": "light"
     }
    }
   ],
   "metadata": {}
  },
  {
   "cell_type": "markdown",
   "source": [
    "## 4. 训练集准确率\n"
   ],
   "metadata": {}
  },
  {
   "cell_type": "code",
   "execution_count": null,
   "source": [
    "# train_accuracy\n",
    "train_acc_val = 0.0\n",
    "count = 0\n",
    "for train_x, train_y in train_data:\n",
    "    y_predict = softmax_model(train_x.view(-1, num_input))\n",
    "    train_acc_val += (y_predict.argmax(dim=1) == train_y).float().sum().item()\n",
    "    count += y_predict.shape[0]\n",
    "train_acc_val = train_acc_val/count\n",
    "print('train accuracy = %f' % train_acc_val)"
   ],
   "outputs": [
    {
     "output_type": "stream",
     "name": "stdout",
     "text": [
      "train accuracy = 0.821767\n"
     ]
    }
   ],
   "metadata": {}
  },
  {
   "cell_type": "markdown",
   "source": [
    "## 5. 测试集准确率"
   ],
   "metadata": {}
  },
  {
   "cell_type": "code",
   "execution_count": null,
   "source": [
    "# test_accuracy\n",
    "test_acc_val = 0.0\n",
    "count = 0\n",
    "for test_x, test_y in test_data:\n",
    "    y_predict = softmax_model(test_x.view(-1, num_input))\n",
    "    test_acc_val += (y_predict.argmax(dim=1) == test_y).float().sum().item()\n",
    "    count += y_predict.shape[0]\n",
    "test_acc_val = test_acc_val/count\n",
    "print('test accuracy = %f' % test_acc_val)"
   ],
   "outputs": [
    {
     "output_type": "stream",
     "name": "stdout",
     "text": [
      "test accuracy = 0.805400\n"
     ]
    }
   ],
   "metadata": {}
  },
  {
   "cell_type": "code",
   "execution_count": null,
   "source": [
    "# demo_test for .view\n",
    "# a=torch.Tensor([[[1,2,3],[4,5,6]]])\n",
    "# a.view(a.shape[0],-1)\n",
    "# print(a)"
   ],
   "outputs": [],
   "metadata": {}
  }
 ],
 "metadata": {
  "interpreter": {
   "hash": "0b44c525ca95e5dbf893da2282eb3ec3f420cb9fa59d94f9af90ca833dc1a37c"
  },
  "kernelspec": {
   "name": "python3",
   "display_name": "Python 3.7.10 64-bit ('pytorch': conda)"
  },
  "language_info": {
   "codemirror_mode": {
    "name": "ipython",
    "version": 3
   },
   "file_extension": ".py",
   "mimetype": "text/x-python",
   "name": "python",
   "nbconvert_exporter": "python",
   "pygments_lexer": "ipython3",
   "version": "3.7.10"
  }
 },
 "nbformat": 4,
 "nbformat_minor": 2
}