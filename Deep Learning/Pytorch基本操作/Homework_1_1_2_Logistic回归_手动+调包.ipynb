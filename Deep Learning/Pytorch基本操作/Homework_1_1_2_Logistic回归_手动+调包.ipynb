{
 "cells": [
  {
   "cell_type": "markdown",
   "metadata": {},
   "source": [
    "# 实验二：logistic 回归\n",
    "姓名：王恩泰    \n",
    "学号：21114019"
   ]
  },
  {
   "cell_type": "code",
   "execution_count": 148,
   "metadata": {},
   "outputs": [],
   "source": [
    "import torch\n",
    "import numpy as np\n",
    "import random\n",
    "import matplotlib.pyplot as plt"
   ]
  },
  {
   "cell_type": "markdown",
   "metadata": {},
   "source": [
    "# 一、自主实现logistic\n",
    "## 1.人工构造随机数据集"
   ]
  },
  {
   "cell_type": "code",
   "execution_count": 149,
   "metadata": {},
   "outputs": [
    {
     "name": "stdout",
     "output_type": "stream",
     "text": [
      "torch.Size([140, 2])\n",
      "torch.Size([140])\n",
      "torch.Size([60, 2])\n",
      "torch.Size([60])\n"
     ]
    }
   ],
   "source": [
    "n_data = torch.ones(100, 2) # 100*2的数据基本形态\n",
    "x1 = torch.normal(2*n_data,1) # 均值为2，方差为1, 100*2规格的随机数据（Feature）\n",
    "y1 = torch.zeros(100) # 100个分到0类\n",
    "x2 = torch.normal(-2*n_data,1) # 均值为-2，方差为1, 100*2规格的随机数据（Feature）\n",
    "y2 = torch.ones(100) # 100个分到1类\n",
    "\n",
    "# 合并数据，把所有产生的x,0按行拼接\n",
    "x_train_data = torch.cat((x1[0:70],x2[0:70]),0).type(torch.FloatTensor)\n",
    "y_train_data = torch.cat((y1[0:70],y2[0:70]),0).type(torch.FloatTensor)\n",
    "print(x_train_data.size())\n",
    "print(y_train_data.size())\n",
    "\n",
    "x_test_data = torch.cat((x1[70:100],x2[70:100]),0).type(torch.FloatTensor)\n",
    "y_test_data = torch.cat((y1[70:100],y2[70:100]),0).type(torch.FloatTensor)\n",
    "print(x_test_data.size())\n",
    "print(y_test_data.size())"
   ]
  },
  {
   "cell_type": "markdown",
   "metadata": {},
   "source": [
    "## 2.初始化参数w和b\n"
   ]
  },
  {
   "cell_type": "code",
   "execution_count": 150,
   "metadata": {},
   "outputs": [
    {
     "name": "stdout",
     "output_type": "stream",
     "text": [
      "tensor([[1.],\n",
      "        [1.]], requires_grad=True)\n",
      "tensor([1.], requires_grad=True)\n"
     ]
    }
   ],
   "source": [
    "w = torch.ones((2,1),dtype=torch.float32, requires_grad = True) # 初始w:2*1\n",
    "# w = torch.tensor(np.random.normal(0,0.01,(2,1)),dtype=torch.float32)\n",
    "print(w)\n",
    "b = torch.ones(1,dtype=torch.float32, requires_grad = True) # 初始b:0\n",
    "print(b)"
   ]
  },
  {
   "cell_type": "markdown",
   "metadata": {},
   "source": [
    "## 3.初始化模型"
   ]
  },
  {
   "cell_type": "code",
   "execution_count": 151,
   "metadata": {},
   "outputs": [],
   "source": [
    "maxiter = 100 # 最大迭代次数\n",
    "batch_size = 10 # 数据分组量\n",
    "lr = 0.05 # 学习率\n",
    "loss = torch.nn.BCELoss()\n",
    "g_loss_list = []"
   ]
  },
  {
   "cell_type": "markdown",
   "metadata": {},
   "source": [
    "### 3.1 数据按batch分类"
   ]
  },
  {
   "cell_type": "code",
   "execution_count": 152,
   "metadata": {},
   "outputs": [],
   "source": [
    "def data_batch(batch_size, x_feature, y_label):\n",
    "    # 打乱数据按照batch_size分组\n",
    "    num_x_feature = len(x_feature)\n",
    "    index = list(range(num_x_feature))\n",
    "    random.shuffle(index) # 每次大循环打乱一次次序\n",
    "    for i in range(0,num_x_feature,batch_size):\n",
    "        index_selct_list = index[i:min(i+batch_size,num_x_feature)] # 这个是int32,要转成int64型才能用index_select\n",
    "        # print(index_selct_list)\n",
    "        j = torch.LongTensor(index_selct_list)\n",
    "        yield x_feature.index_select(0,j), y_label.index_select(0,j) # return仅可返回一个变量，yiled迭代器可以返回一串"
   ]
  },
  {
   "cell_type": "markdown",
   "metadata": {},
   "source": [
    "### 3.2 logistic模型\n",
    "$$\n",
    "p(y=1 \\mid \\boldsymbol{x}) =\\sigma\\left(\\boldsymbol{w}^{\\top} \\boldsymbol{x}\\right) \n",
    " \\triangleq \\frac{1}{1+\\exp \\left(-\\boldsymbol{w}^{\\top} \\boldsymbol{x}\\right)}\n",
    "$$"
   ]
  },
  {
   "cell_type": "code",
   "execution_count": 153,
   "metadata": {},
   "outputs": [],
   "source": [
    "def logistic(x, w, b):\n",
    "    y_predict = 1./(1+torch.exp(-1.*(torch.mm(x, w)+b)))\n",
    "    return y_predict\n",
    "\n",
    "def grad_descent(arg, lr, batch_size):\n",
    "    for item in arg:\n",
    "        item.data = item.data - lr * item.grad / batch_size\n",
    "    # w = w - lr / batch_size * w.grad\n",
    "    # b = b - lr / batch_size * b.grad\n",
    "    # print(w)\n",
    "    # print(b)\n",
    "    # return w,b 这样更新不行？？"
   ]
  },
  {
   "cell_type": "markdown",
   "metadata": {},
   "source": [
    "## 4.训练模型\n"
   ]
  },
  {
   "cell_type": "code",
   "execution_count": 154,
   "metadata": {},
   "outputs": [
    {
     "name": "stdout",
     "output_type": "stream",
     "text": [
      "iter: 49, loss= 0.076741\n"
     ]
    },
    {
     "data": {
      "image/png": "[encoded data removed]",
      "text/plain": [
       "<Figure size 432x288 with 1 Axes>"
      ]
     },
     "metadata": {
      "needs_background": "light"
     },
     "output_type": "display_data"
    },
    {
     "name": "stdout",
     "output_type": "stream",
     "text": [
      "train accuracy value = 1.0\n",
      "test accuracy value = 0.9833333333333333\n"
     ]
    }
   ],
   "source": [
    "for iter in range(maxiter):\n",
    "    for x_train, y_train in data_batch(batch_size, x_train_data, y_train_data):\n",
    "        # print(x_train)\n",
    "        # print(y_train)\n",
    "        y_predict = logistic(x_train, w, b)\n",
    "        y_predict = y_predict.squeeze(-1)\n",
    "        # print(y_predict)        \n",
    "        loss_val = loss(y_predict, y_train).sum() # 因变量求和\n",
    "        loss_val.backward() # 自动微分\n",
    "        grad_descent([w,b],lr,batch_size)\n",
    "        # print(w)\n",
    "        # print(b)\n",
    "        # 梯度清零\n",
    "        w.grad.data.zero_()\n",
    "        b.grad.data.zero_()\n",
    "    loss_iter = loss(logistic(x_train, w, b).squeeze(-1), y_train)\n",
    "    g_loss_list.append(loss_iter.mean().item())\n",
    "\n",
    "print('iter: %d, loss= %f' % (iter, loss_iter.mean().item())) \n",
    "# print(w)\n",
    "# print(b)\n",
    "plt.plot(g_loss_list)\n",
    "plt.show()\n",
    "\n",
    "# train_accuracy\n",
    "count = 0 # 计数用于求平均值\n",
    "acc_sum = 0\n",
    "for x_test,y_test in data_batch(1, x_train_data, y_train_data): # 逐一batch\n",
    "    # print(logistic(x_test,w,b).round()) \n",
    "    # print(y_test)\n",
    "    acc_sum += (logistic(x_test,w,b).round() == y_test).item() # 找匹配??\n",
    "    # print(y_test.shape[0])\n",
    "    count += 1\n",
    "train_accuracy_value = acc_sum/count\n",
    "print('train accuracy value = '+ str(train_accuracy_value))\n",
    "\n",
    "# test_accuracy\n",
    "count = 0 # 计数用于求平均值\n",
    "acc_sum = 0\n",
    "for x_test,y_test in data_batch(1, x_test_data, y_test_data): # 逐一batch\n",
    "    # print(logistic(x_test,w,b).round()) \n",
    "    # print(y_test)\n",
    "    acc_sum += (logistic(x_test,w,b).round() == y_test).item() # 找匹配??\n",
    "    # print(y_test.shape[0])\n",
    "    count += 1\n",
    "test_accuracy_value = acc_sum/count\n",
    "print('test accuracy value = '+ str(test_accuracy_value))"
   ]
  },
  {
   "cell_type": "markdown",
   "metadata": {},
   "source": [
    "# 二、利用torch.nn 实现 logistic 回归"
   ]
  },
  {
   "cell_type": "markdown",
   "metadata": {},
   "source": [
    "## 1. 数据存入DataLoader"
   ]
  },
  {
   "cell_type": "code",
   "execution_count": 155,
   "metadata": {},
   "outputs": [],
   "source": [
    "import torch\n",
    "import torch.nn as nn\n",
    "import torch.utils.data as Data\n",
    "from torch.nn import init\n",
    "import torch.optim as optim\n",
    "\n",
    "dataset = Data.TensorDataset(x_train_data, y_train_data)\n",
    "batch_size = 10\n",
    "data_loader = Data.DataLoader(dataset = dataset, batch_size = batch_size, shuffle = True, num_workers = 0)"
   ]
  },
  {
   "cell_type": "markdown",
   "metadata": {},
   "source": [
    "## 2. 构建logistic模型"
   ]
  },
  {
   "cell_type": "code",
   "execution_count": 156,
   "metadata": {},
   "outputs": [],
   "source": [
    "class LogisticNet(nn.Module):\n",
    "    def __init__(self, n_feature):\n",
    "        # 继承nn.Module父类的方法(比如init，线性方法，sigmoid方法)\n",
    "        super(LogisticNet, self).__init__()\n",
    "        self.Linear = nn.Linear(n_feature, 1) # nn.Linear两个参数，输入变量维度，输出变量维度, {0,1}相当于一类？\n",
    "        self.Sigmoid = nn.Sigmoid()\n",
    "\n",
    "        # 定义前向传播forward函数\n",
    "    def forward(self,x):\n",
    "        x = self.Linear(x)\n",
    "        y = self.Sigmoid(x)\n",
    "        return y"
   ]
  },
  {
   "cell_type": "markdown",
   "metadata": {},
   "source": [
    "## 3. 声明优化模型"
   ]
  },
  {
   "cell_type": "code",
   "execution_count": 157,
   "metadata": {},
   "outputs": [],
   "source": [
    "n_feature = 2\n",
    "# 实例化一个logisticNet类\n",
    "logistic_model = LogisticNet(n_feature)\n",
    "loss = nn.MSELoss()\n",
    "\n",
    "# 设置学习率\n",
    "optimizer = optim.SGD(logistic_model.parameters(), lr=0.01)"
   ]
  },
  {
   "cell_type": "markdown",
   "metadata": {},
   "source": [
    "## 4. 开始学习"
   ]
  },
  {
   "cell_type": "code",
   "execution_count": 158,
   "metadata": {},
   "outputs": [
    {
     "name": "stdout",
     "output_type": "stream",
     "text": [
      "iter: 49, loss= 0.007550\n"
     ]
    },
    {
     "data": {
      "image/png": "[encoded data removed]",
      "text/plain": [
       "<Figure size 432x288 with 1 Axes>"
      ]
     },
     "metadata": {
      "needs_background": "light"
     },
     "output_type": "display_data"
    },
    {
     "name": "stdout",
     "output_type": "stream",
     "text": [
      "train accuracy value = 1.0\n",
      "test accuracy value = 1.0\n"
     ]
    }
   ],
   "source": [
    "# 初始化梯度\n",
    "# init.normal_(logistic_model.Linear.weight, mean=0, std=0.01) \n",
    "init.constant_(logistic_model.Linear.weight, val=0) # 给系数w设定初始值0\n",
    "init.constant_(logistic_model.Linear.bias, val=0) # 给系数b设定初始值0\n",
    "\n",
    "g_loss_list = []\n",
    "max_iter = 100\n",
    "for iter in range(1, max_iter):\n",
    "    for x_train, y_tarin in data_loader:\n",
    "        # print(x_train)\n",
    "        # print(y_train)\n",
    "        y_predict = logistic_model(x_train)\n",
    "        # print(y_predict)\n",
    "        loss_val = loss(y_predict.squeeze(-1), y_tarin)        \n",
    "        optimizer.zero_grad()\n",
    "        loss_val.backward() # 先backward还是先清零梯度？\n",
    "        optimizer.step() # 更新所有参数\n",
    "    g_loss_list.append(loss_val.item())\n",
    "print('iter: %d, loss= %f' % (iter, loss_val.item()))\n",
    "plt.plot(g_loss_list)\n",
    "plt.show()\n",
    "\n",
    "# train_accuracy\n",
    "count = 0 # 计数用于求平均值\n",
    "acc_sum = 0\n",
    "for x_test,y_test in data_batch(1, x_train_data, y_train_data): # 逐一batch\n",
    "    acc_sum += (logistic_model(x_test).round() == y_test).item() # 找匹配??\n",
    "    # print(y_test.shape[0])\n",
    "    count += 1\n",
    "train_accuracy_value = acc_sum/count\n",
    "print('train accuracy value = '+ str(train_accuracy_value))\n",
    "\n",
    "# test_accuracy\n",
    "count = 0 # 计数用于求平均值\n",
    "acc_sum = 0\n",
    "for x_test,y_test in data_batch(1, x_test_data, y_test_data): # 逐一batch\n",
    "    acc_sum += (logistic_model(x_test).round() == y_test).item() # 找匹配??\n",
    "    count += 1\n",
    "test_accuracy_value = acc_sum/count\n",
    "print('test accuracy value = '+ str(test_accuracy_value))\n"
   ]
  }
 ],
 "metadata": {
  "interpreter": {
   "hash": "0b44c525ca95e5dbf893da2282eb3ec3f420cb9fa59d94f9af90ca833dc1a37c"
  },
  "kernelspec": {
   "display_name": "Python 3 (ipykernel)",
   "language": "python",
   "name": "python3"
  },
  "language_info": {
   "codemirror_mode": {
    "name": "ipython",
    "version": 3
   },
   "file_extension": ".py",
   "mimetype": "text/x-python",
   "name": "python",
   "nbconvert_exporter": "python",
   "pygments_lexer": "ipython3",
   "version": "3.8.5"
  }
 },
 "nbformat": 4,
 "nbformat_minor": 2
}
