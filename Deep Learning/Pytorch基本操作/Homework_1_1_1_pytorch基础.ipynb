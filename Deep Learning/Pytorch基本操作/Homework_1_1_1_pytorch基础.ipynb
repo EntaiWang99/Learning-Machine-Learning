{
 "cells": [
  {
   "cell_type": "markdown",
   "source": [
    "# 实验一：Pytorch基本操作考察"
   ],
   "metadata": {}
  },
  {
   "cell_type": "code",
   "execution_count": 6,
   "source": [
    "import torch"
   ],
   "outputs": [],
   "metadata": {}
  },
  {
   "cell_type": "markdown",
   "source": [
    "## 1. 使用 𝐓𝐞𝐧𝐬𝐨𝐫 初始化一个 𝟏 × 𝟑 的矩阵 𝑴 和一个 𝟐 × 𝟏 的矩阵 𝑵，对两矩阵进行减法操作（要求实现三种不同的形式），给出结果并分析三种方式的不同（如果出现报错，分析报错的原因），同时需要指出在计算过程中发生了什么"
   ],
   "metadata": {}
  },
  {
   "cell_type": "code",
   "execution_count": 7,
   "source": [
    "M = torch.rand(1,3)\r\n",
    "N = torch.rand(2,1)\r\n",
    "print(M)\r\n",
    "print(N)"
   ],
   "outputs": [
    {
     "output_type": "stream",
     "name": "stdout",
     "text": [
      "tensor([[0.4745, 0.1138, 0.3812]])\n",
      "tensor([[0.1164],\n",
      "        [0.7796]])\n"
     ]
    }
   ],
   "metadata": {}
  },
  {
   "cell_type": "code",
   "execution_count": 8,
   "source": [
    "# 减法形式一\r\n",
    "diff1 = M - N\r\n",
    "print(diff1)"
   ],
   "outputs": [
    {
     "output_type": "stream",
     "name": "stdout",
     "text": [
      "tensor([[ 0.3581, -0.0025,  0.2648],\n",
      "        [-0.3051, -0.6657, -0.3984]])\n"
     ]
    }
   ],
   "metadata": {}
  },
  {
   "cell_type": "code",
   "execution_count": 9,
   "source": [
    "# 减法形式二\r\n",
    "diff2 = torch.sub(M, N)\r\n",
    "print(diff2)"
   ],
   "outputs": [
    {
     "output_type": "stream",
     "name": "stdout",
     "text": [
      "tensor([[ 0.3581, -0.0025,  0.2648],\n",
      "        [-0.3051, -0.6657, -0.3984]])\n"
     ]
    }
   ],
   "metadata": {}
  },
  {
   "cell_type": "code",
   "execution_count": 10,
   "source": [
    "# 减法形式三\r\n",
    "diff3 = M.sub_(N)\r\n",
    "print(diff3)"
   ],
   "outputs": [
    {
     "output_type": "error",
     "ename": "RuntimeError",
     "evalue": "output with shape [1, 3] doesn't match the broadcast shape [2, 3]",
     "traceback": [
      "\u001b[1;31m---------------------------------------------------------------------------\u001b[0m",
      "\u001b[1;31mRuntimeError\u001b[0m                              Traceback (most recent call last)",
      "\u001b[1;32mC:\\Users\\ENTAIW~1\\AppData\\Local\\Temp/ipykernel_19768/2129972376.py\u001b[0m in \u001b[0;36m<module>\u001b[1;34m\u001b[0m\n\u001b[0;32m      1\u001b[0m \u001b[1;31m# 减法形式三\u001b[0m\u001b[1;33m\u001b[0m\u001b[1;33m\u001b[0m\u001b[1;33m\u001b[0m\u001b[0m\n\u001b[1;32m----> 2\u001b[1;33m \u001b[0mdiff3\u001b[0m \u001b[1;33m=\u001b[0m \u001b[0mM\u001b[0m\u001b[1;33m.\u001b[0m\u001b[0msub_\u001b[0m\u001b[1;33m(\u001b[0m\u001b[0mN\u001b[0m\u001b[1;33m)\u001b[0m\u001b[1;33m\u001b[0m\u001b[1;33m\u001b[0m\u001b[0m\n\u001b[0m\u001b[0;32m      3\u001b[0m \u001b[0mprint\u001b[0m\u001b[1;33m(\u001b[0m\u001b[0mdiff3\u001b[0m\u001b[1;33m)\u001b[0m\u001b[1;33m\u001b[0m\u001b[1;33m\u001b[0m\u001b[0m\n",
      "\u001b[1;31mRuntimeError\u001b[0m: output with shape [1, 3] doesn't match the broadcast shape [2, 3]"
     ]
    }
   ],
   "metadata": {}
  },
  {
   "cell_type": "markdown",
   "source": [
    "## 2.\r\n",
    "1) 利用 𝐓𝐞𝐧𝐬𝐨𝐫 创建两个大小分别 𝟑 × 𝟐 和 𝟒 × 𝟐 的随机数矩阵 𝑷 和 𝑸 ，要求服从均值为0，标准差0.01为的正态分布 \r\n",
    "2) 对第二步得到的矩阵 𝑸 进行形状变换得到 𝑸 的转置 𝑸^𝑻 \r\n",
    "3) 对上述得到的矩阵 𝑷 和矩阵 𝑸^𝑻 求乘积"
   ],
   "metadata": {}
  },
  {
   "cell_type": "code",
   "execution_count": 11,
   "source": [
    "P = torch.normal(0, 0.01, size=(3,2))\r\n",
    "Q = torch.normal(0, 0.01, size=(4,2))\r\n",
    "print(P)\r\n",
    "print(Q)"
   ],
   "outputs": [
    {
     "output_type": "stream",
     "name": "stdout",
     "text": [
      "tensor([[ 0.0036,  0.0050],\n",
      "        [-0.0192,  0.0031],\n",
      "        [ 0.0171,  0.0019]])\n",
      "tensor([[-0.0060, -0.0013],\n",
      "        [ 0.0018,  0.0209],\n",
      "        [ 0.0044,  0.0025],\n",
      "        [-0.0011, -0.0214]])\n"
     ]
    }
   ],
   "metadata": {}
  },
  {
   "cell_type": "code",
   "execution_count": 12,
   "source": [
    "QT = torch.t(Q)\r\n",
    "print(QT)"
   ],
   "outputs": [
    {
     "output_type": "stream",
     "name": "stdout",
     "text": [
      "tensor([[-0.0060,  0.0018,  0.0044, -0.0011],\n",
      "        [-0.0013,  0.0209,  0.0025, -0.0214]])\n"
     ]
    }
   ],
   "metadata": {}
  },
  {
   "cell_type": "code",
   "execution_count": 13,
   "source": [
    "mm = torch.mm(P,QT)\r\n",
    "print(torch.mm(P,QT))"
   ],
   "outputs": [
    {
     "output_type": "stream",
     "name": "stdout",
     "text": [
      "tensor([[-2.8090e-05,  1.0999e-04,  2.8282e-05, -1.1004e-04],\n",
      "        [ 1.1148e-04,  3.1094e-05, -7.7134e-05, -4.5545e-05],\n",
      "        [-1.0526e-04,  7.0529e-05,  8.0329e-05, -6.0015e-05]])\n"
     ]
    }
   ],
   "metadata": {}
  },
  {
   "cell_type": "markdown",
   "source": [
    "## 3.给定公式 $𝑦_3 = 𝑦_1 + 𝑦_2 = 𝑥^2 + 𝑥^3$，且 𝑥 = 1。利用学习所得到的Tensor的相关知识，求$𝑦_3$对的梯度𝑥，即$𝑑𝑦_3/𝑑𝑥$ 。"
   ],
   "metadata": {}
  },
  {
   "cell_type": "code",
   "execution_count": 26,
   "source": [
    "x = torch.tensor(1.0, requires_grad=True)\r\n",
    "y1 = x ** 2\r\n",
    "with torch.no_grad(): # 为什么要追踪\r\n",
    "    y2 = x ** 3\r\n",
    "y3 = y1 + y2\r\n",
    "print(y3)\r\n",
    "print(y3.grad_fn) # .grad_fn输出的是什么？\r\n",
    "y3.backward() # 向后\r\n",
    "print(x.grad) # 实际计算得到的梯度值"
   ],
   "outputs": [
    {
     "output_type": "stream",
     "name": "stdout",
     "text": [
      "tensor(2., grad_fn=<AddBackward0>)\n",
      "<AddBackward0 object at 0x000001BF2C5BEE48>\n",
      "tensor(2.)\n"
     ]
    }
   ],
   "metadata": {}
  }
 ],
 "metadata": {
  "orig_nbformat": 4,
  "language_info": {
   "name": "python"
  }
 },
 "nbformat": 4,
 "nbformat_minor": 2
}